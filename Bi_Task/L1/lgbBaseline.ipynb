{
 "metadata": {
  "language_info": {
   "codemirror_mode": {
    "name": "ipython",
    "version": 3
   },
   "file_extension": ".py",
   "mimetype": "text/x-python",
   "name": "python",
   "nbconvert_exporter": "python",
   "pygments_lexer": "ipython3",
   "version": "3.7.6-final"
  },
  "orig_nbformat": 2,
  "kernelspec": {
   "name": "python_defaultSpec_1597997650290",
   "display_name": "Python 3.7.6 64-bit ('base': conda)"
  }
 },
 "nbformat": 4,
 "nbformat_minor": 2,
 "cells": [
  {
   "cell_type": "code",
   "execution_count": 21,
   "metadata": {},
   "outputs": [],
   "source": [
    "#base\n",
    "import pandas as pd\n",
    "import numpy as np \n",
    "# 模型\n",
    "import lightgbm as lgb\n",
    "from sklearn.model_selection import KFold\n",
    "# 预处理\n",
    "from sklearn.model_selection import train_test_split\n",
    "from sklearn.preprocessing import LabelEncoder\n",
    "from tqdm import tqdm_notebook\n",
    "from tqdm import tqdm\n",
    "# 效果预测\n",
    "from sklearn.metrics import precision_score, recall_score\n"
   ]
  },
  {
   "cell_type": "code",
   "execution_count": 2,
   "metadata": {},
   "outputs": [],
   "source": [
    "train = pd.read_csv(\"train.csv\")\n",
    "test = pd.read_csv(\"test.csv\")"
   ]
  },
  {
   "cell_type": "code",
   "execution_count": 4,
   "metadata": {},
   "outputs": [],
   "source": [
    "test['Attrition'] = -1\n",
    "data = train.append(test).reset_index(drop=True)"
   ]
  },
  {
   "cell_type": "code",
   "execution_count": 8,
   "metadata": {
    "tags": [
     "outputPrepend"
    ]
   },
   "outputs": [
    {
     "output_type": "stream",
     "name": "stdout",
     "text": "- \n 0   user_id                   1470 non-null   int64 \n 1   Age                       1470 non-null   int64 \n 2   Attrition                 1470 non-null   object\n 3   BusinessTravel            1470 non-null   object\n 4   DailyRate                 1470 non-null   int64 \n 5   Department                1470 non-null   object\n 6   DistanceFromHome          1470 non-null   int64 \n 7   Education                 1470 non-null   int64 \n 8   EducationField            1470 non-null   object\n 9   EmployeeCount             1470 non-null   int64 \n 10  EmployeeNumber            1470 non-null   int64 \n 11  EnvironmentSatisfaction   1470 non-null   int64 \n 12  Gender                    1470 non-null   object\n 13  HourlyRate                1470 non-null   int64 \n 14  JobInvolvement            1470 non-null   int64 \n 15  JobLevel                  1470 non-null   int64 \n 16  JobRole                   1470 non-null   object\n 17  JobSatisfaction           1470 non-null   int64 \n 18  MaritalStatus             1470 non-null   object\n 19  MonthlyIncome             1470 non-null   int64 \n 20  MonthlyRate               1470 non-null   int64 \n 21  NumCompaniesWorked        1470 non-null   int64 \n 22  Over18                    1470 non-null   object\n 23  OverTime                  1470 non-null   object\n 24  PercentSalaryHike         1470 non-null   int64 \n 25  PerformanceRating         1470 non-null   int64 \n 26  RelationshipSatisfaction  1470 non-null   int64 \n 27  StandardHours             1470 non-null   int64 \n 28  StockOptionLevel          1470 non-null   int64 \n 29  TotalWorkingYears         1470 non-null   int64 \n 30  TrainingTimesLastYear     1470 non-null   int64 \n 31  WorkLifeBalance           1470 non-null   int64 \n 32  YearsAtCompany            1470 non-null   int64 \n 33  YearsInCurrentRole        1470 non-null   int64 \n 34  YearsSinceLastPromotion   1470 non-null   int64 \n 35  YearsWithCurrManager      1470 non-null   int64 \ndtypes: int64(27), object(9)\nmemory usage: 413.6+ KB\n"
    }
   ],
   "source": [
    "data.info()\n",
    "# data.describe()"
   ]
  },
  {
   "cell_type": "code",
   "execution_count": 12,
   "metadata": {
    "tags": []
   },
   "outputs": [
    {
     "output_type": "display_data",
     "data": {
      "text/plain": "HBox(children=(FloatProgress(value=0.0, max=8.0), HTML(value='')))",
      "application/vnd.jupyter.widget-view+json": {
       "version_major": 2,
       "version_minor": 0,
       "model_id": "be4c51877cac4222823b9d5e56ff57d6"
      }
     },
     "metadata": {}
    },
    {
     "output_type": "stream",
     "name": "stdout",
     "text": "\n"
    }
   ],
   "source": [
    "cat_col = [i for i in data.select_dtypes(object).columns if i not in ['Attrition']]\n",
    "for i in tqdm_notebook(cat_col):\n",
    "    lbl = LabelEncoder()\n",
    "    data[i] = lbl.fit_transform(data[i].astype(str))"
   ]
  },
  {
   "cell_type": "code",
   "execution_count": 13,
   "metadata": {},
   "outputs": [
    {
     "output_type": "execute_result",
     "data": {
      "text/plain": "92   45        No               2        950           1   \n2      768   40        No               2        300           2   \n3      569   36        No               0       1434           2   \n4      911   25       Yes               1        599           2   \n\n   DistanceFromHome  Education  EducationField  EmployeeCount  ...  \\\n0                21          3               1              1  ...   \n1                28          3               5              1  ...   \n2                26          3               2              1  ...   \n3                 8          4               1              1  ...   \n4                24          1               1              1  ...   \n\n   RelationshipSatisfaction  StandardHours  StockOptionLevel  \\\n0                         3             80                 1   \n1                         4             80                 1   \n2                         2             80                 1   \n3                         2             80                 0   \n4                         4             80                 0   \n\n   TotalWorkingYears  TrainingTimesLastYear  WorkLifeBalance  YearsAtCompany  \\\n0                 29                      2                2               1   \n1                  8                      3                3               5   \n2                  8                      3                2               7   \n3                 10                      1                3              10   \n4                  1                      4                3               1   \n\n   YearsInCurrentRole  YearsSinceLastPromotion  YearsWithCurrManager  \n0                   0                        0                     0  \n1                   4                        0                     3  \n2                   7                        7                     5  \n3                   7                        0                     9  \n4                   0                        1                     0  \n\n[5 rows x 36 columns]",
      "text/html": "<div>\n<style scoped>\n    .dataframe tbody tr th:only-of-type {\n        vertical-align: middle;\n    }\n\n    .dataframe tbody tr th {\n        vertical-align: top;\n    }\n\n    .dataframe thead th {\n        text-align: right;\n    }\n</style>\n<table border=\"1\" class=\"dataframe\">\n  <thead>\n    <tr style=\"text-align: right;\">\n      <th></th>\n      <th>user_id</th>\n      <th>Age</th>\n      <th>Attrition</th>\n      <th>BusinessTravel</th>\n      <th>DailyRate</th>\n      <th>Department</th>\n      <th>DistanceFromHome</th>\n      <th>Education</th>\n      <th>EducationField</th>\n      <th>EmployeeCount</th>\n      <th>...</th>\n      <th>RelationshipSatisfaction</th>\n      <th>StandardHours</th>\n      <th>StockOptionLevel</th>\n      <th>TotalWorkingYears</th>\n      <th>TrainingTimesLastYear</th>\n      <th>WorkLifeBalance</th>\n      <th>YearsAtCompany</th>\n      <th>YearsInCurrentRole</th>\n      <th>YearsSinceLastPromotion</th>\n      <th>YearsWithCurrManager</th>\n    </tr>\n  </thead>\n  <tbody>\n    <tr>\n      <th>0</th>\n      <td>1374</td>\n      <td>58</td>\n      <td>No</td>\n      <td>2</td>\n      <td>605</td>\n      <td>2</td>\n      <td>21</td>\n      <td>3</td>\n      <td>1</td>\n      <td>1</td>\n      <td>...</td>\n      <td>3</td>\n      <td>80</td>\n      <td>1</td>\n      <td>29</td>\n      <td>2</td>\n      <td>2</td>\n      <td>1</td>\n      <td>0</td>\n      <td>0</td>\n      <td>0</td>\n    </tr>\n    <tr>\n      <th>1</th>\n      <td>1092</td>\n      <td>45</td>\n      <td>No</td>\n      <td>2</td>\n      <td>950</td>\n      <td>1</td>\n      <td>28</td>\n      <td>3</td>\n      <td>5</td>\n      <td>1</td>\n      <td>...</td>\n      <td>4</td>\n      <td>80</td>\n      <td>1</td>\n      <td>8</td>\n      <td>3</td>\n      <td>3</td>\n      <td>5</td>\n      <td>4</td>\n      <td>0</td>\n      <td>3</td>\n    </tr>\n    <tr>\n      <th>2</th>\n      <td>768</td>\n      <td>40</td>\n      <td>No</td>\n      <td>2</td>\n      <td>300</td>\n      <td>2</td>\n      <td>26</td>\n      <td>3</td>\n      <td>2</td>\n      <td>1</td>\n      <td>...</td>\n      <td>2</td>\n      <td>80</td>\n      <td>1</td>\n      <td>8</td>\n      <td>3</td>\n      <td>2</td>\n      <td>7</td>\n      <td>7</td>\n      <td>7</td>\n      <td>5</td>\n    </tr>\n    <tr>\n      <th>3</th>\n      <td>569</td>\n      <td>36</td>\n      <td>No</td>\n      <td>0</td>\n      <td>1434</td>\n      <td>2</td>\n      <td>8</td>\n      <td>4</td>\n      <td>1</td>\n      <td>1</td>\n      <td>...</td>\n      <td>2</td>\n      <td>80</td>\n      <td>0</td>\n      <td>10</td>\n      <td>1</td>\n      <td>3</td>\n      <td>10</td>\n      <td>7</td>\n      <td>0</td>\n      <td>9</td>\n    </tr>\n    <tr>\n      <th>4</th>\n      <td>911</td>\n      <td>25</td>\n      <td>Yes</td>\n      <td>1</td>\n      <td>599</td>\n      <td>2</td>\n      <td>24</td>\n      <td>1</td>\n      <td>1</td>\n      <td>1</td>\n      <td>...</td>\n      <td>4</td>\n      <td>80</td>\n      <td>0</td>\n      <td>1</td>\n      <td>4</td>\n      <td>3</td>\n      <td>1</td>\n      <td>0</td>\n      <td>1</td>\n      <td>0</td>\n    </tr>\n  </tbody>\n</table>\n<p>5 rows × 36 columns</p>\n</div>"
     },
     "metadata": {},
     "execution_count": 13
    }
   ],
   "source": [
    "data.head()"
   ]
  },
  {
   "cell_type": "code",
   "execution_count": 14,
   "metadata": {
    "tags": [
     "outputPrepend"
    ]
   },
   "outputs": [
    {
     "output_type": "stream",
     "name": "stdout",
     "text": "er_id                   1470 non-null   int64 \n 1   Age                       1470 non-null   int64 \n 2   Attrition                 1470 non-null   object\n 3   BusinessTravel            1470 non-null   int32 \n 4   DailyRate                 1470 non-null   int64 \n 5   Department                1470 non-null   int32 \n 6   DistanceFromHome          1470 non-null   int64 \n 7   Education                 1470 non-null   int64 \n 8   EducationField            1470 non-null   int32 \n 9   EmployeeCount             1470 non-null   int64 \n 10  EmployeeNumber            1470 non-null   int64 \n 11  EnvironmentSatisfaction   1470 non-null   int64 \n 12  Gender                    1470 non-null   int32 \n 13  HourlyRate                1470 non-null   int64 \n 14  JobInvolvement            1470 non-null   int64 \n 15  JobLevel                  1470 non-null   int64 \n 16  JobRole                   1470 non-null   int32 \n 17  JobSatisfaction           1470 non-null   int64 \n 18  MaritalStatus             1470 non-null   int32 \n 19  MonthlyIncome             1470 non-null   int64 \n 20  MonthlyRate               1470 non-null   int64 \n 21  NumCompaniesWorked        1470 non-null   int64 \n 22  Over18                    1470 non-null   int32 \n 23  OverTime                  1470 non-null   int32 \n 24  PercentSalaryHike         1470 non-null   int64 \n 25  PerformanceRating         1470 non-null   int64 \n 26  RelationshipSatisfaction  1470 non-null   int64 \n 27  StandardHours             1470 non-null   int64 \n 28  StockOptionLevel          1470 non-null   int64 \n 29  TotalWorkingYears         1470 non-null   int64 \n 30  TrainingTimesLastYear     1470 non-null   int64 \n 31  WorkLifeBalance           1470 non-null   int64 \n 32  YearsAtCompany            1470 non-null   int64 \n 33  YearsInCurrentRole        1470 non-null   int64 \n 34  YearsSinceLastPromotion   1470 non-null   int64 \n 35  YearsWithCurrManager      1470 non-null   int64 \ndtypes: int32(8), int64(27), object(1)\nmemory usage: 367.6+ KB\n"
    }
   ],
   "source": [
    "data.info()"
   ]
  },
  {
   "cell_type": "code",
   "execution_count": 15,
   "metadata": {},
   "outputs": [],
   "source": [
    "feats = [i for i in data.columns if i not in ['user_id','Attrition']]"
   ]
  },
  {
   "cell_type": "code",
   "execution_count": 16,
   "metadata": {},
   "outputs": [
    {
     "output_type": "execute_result",
     "data": {
      "text/plain": "['Age',\n 'BusinessTravel',\n 'DailyRate',\n 'Department',\n 'DistanceFromHome',\n 'Education',\n 'EducationField',\n 'EmployeeCount',\n 'EmployeeNumber',\n 'EnvironmentSatisfaction',\n 'Gender',\n 'HourlyRate',\n 'JobInvolvement',\n 'JobLevel',\n 'JobRole',\n 'JobSatisfaction',\n 'MaritalStatus',\n 'MonthlyIncome',\n 'MonthlyRate',\n 'NumCompaniesWorked',\n 'Over18',\n 'OverTime',\n 'PercentSalaryHike',\n 'PerformanceRating',\n 'RelationshipSatisfaction',\n 'StandardHours',\n 'StockOptionLevel',\n 'TotalWorkingYears',\n 'TrainingTimesLastYear',\n 'WorkLifeBalance',\n 'YearsAtCompany',\n 'YearsInCurrentRole',\n 'YearsSinceLastPromotion',\n 'YearsWithCurrManager']"
     },
     "metadata": {},
     "execution_count": 16
    }
   ],
   "source": [
    "feats"
   ]
  },
  {
   "cell_type": "code",
   "execution_count": 17,
   "metadata": {},
   "outputs": [],
   "source": [
    "model = lgb.LGBMClassifier(\n",
    "        boosting_type=\"gbdt\", num_leaves=70, reg_alpha=0, reg_lambda=0.,\n",
    "    max_depth=-1, n_estimators=1500, objective='binary',metric= 'F1',\n",
    "    subsample=0.95, colsample_bytree=0.95, subsample_freq=1,\n",
    "    learning_rate=0.002, random_state=2017\n",
    "    )"
   ]
  },
  {
   "cell_type": "code",
   "execution_count": 18,
   "metadata": {},
   "outputs": [
    {
     "output_type": "execute_result",
     "data": {
      "text/plain": "No     988\n-1     294\nYes    188\nName: Attrition, dtype: int64"
     },
     "metadata": {},
     "execution_count": 18
    }
   ],
   "source": [
    "data.Attrition.value_counts()"
   ]
  },
  {
   "cell_type": "code",
   "execution_count": 19,
   "metadata": {},
   "outputs": [
    {
     "output_type": "execute_result",
     "data": {
      "text/plain": "      user_id\n1176      442\n1177     1091\n1178      981\n1179      785\n1180     1332\n...       ...\n1465     1439\n1466      481\n1467      124\n1468      198\n1469     1229\n\n[294 rows x 1 columns]",
      "text/html": "<div>\n<style scoped>\n    .dataframe tbody tr th:only-of-type {\n        vertical-align: middle;\n    }\n\n    .dataframe tbody tr th {\n        vertical-align: top;\n    }\n\n    .dataframe thead th {\n        text-align: right;\n    }\n</style>\n<table border=\"1\" class=\"dataframe\">\n  <thead>\n    <tr style=\"text-align: right;\">\n      <th></th>\n      <th>user_id</th>\n    </tr>\n  </thead>\n  <tbody>\n    <tr>\n      <th>1176</th>\n      <td>442</td>\n    </tr>\n    <tr>\n      <th>1177</th>\n      <td>1091</td>\n    </tr>\n    <tr>\n      <th>1178</th>\n      <td>981</td>\n    </tr>\n    <tr>\n      <th>1179</th>\n      <td>785</td>\n    </tr>\n    <tr>\n      <th>1180</th>\n      <td>1332</td>\n    </tr>\n    <tr>\n      <th>...</th>\n      <td>...</td>\n    </tr>\n    <tr>\n      <th>1465</th>\n      <td>1439</td>\n    </tr>\n    <tr>\n      <th>1466</th>\n      <td>481</td>\n    </tr>\n    <tr>\n      <th>1467</th>\n      <td>124</td>\n    </tr>\n    <tr>\n      <th>1468</th>\n      <td>198</td>\n    </tr>\n    <tr>\n      <th>1469</th>\n      <td>1229</td>\n    </tr>\n  </tbody>\n</table>\n<p>294 rows × 1 columns</p>\n</div>"
     },
     "metadata": {},
     "execution_count": 19
    }
   ],
   "source": [
    "data[data['Attrition']== -1][['user_id']]"
   ]
  },
  {
   "cell_type": "code",
   "execution_count": 22,
   "metadata": {},
   "outputs": [],
   "source": [
    "n_splits=5\n",
    "kfold = KFold(n_splits=5, shuffle=True, random_state=42)"
   ]
  },
  {
   "cell_type": "code",
   "execution_count": 23,
   "metadata": {},
   "outputs": [],
   "source": [
    "data.loc[data['Attrition']==2,'Attrition']=0\n",
    "train_x = data[data['Attrition']!=-1][feats]\n",
    "train_y = data[data['Attrition']!=-1]['Attrition']\n",
    "res=data[data['Attrition']==-1][['user_id']]"
   ]
  },
  {
   "cell_type": "code",
   "execution_count": 24,
   "metadata": {},
   "outputs": [],
   "source": [
    "test_x= data[data['Attrition']==-1][feats]"
   ]
  },
  {
   "cell_type": "code",
   "execution_count": 25,
   "metadata": {},
   "outputs": [],
   "source": [
    "res['Attrition'] = 0"
   ]
  },
  {
   "cell_type": "code",
   "execution_count": 26,
   "metadata": {
    "tags": [
     "outputPrepend"
    ]
   },
   "outputs": [
    {
     "output_type": "stream",
     "name": "stdout",
     "text": "]\ttraining's auc: 0.955365\tvalid_1's auc: 0.749692\n[151]\ttraining's auc: 0.955283\tvalid_1's auc: 0.750616\n[152]\ttraining's auc: 0.955324\tvalid_1's auc: 0.750154\n[153]\ttraining's auc: 0.955659\tvalid_1's auc: 0.749384\n[154]\ttraining's auc: 0.95561\tvalid_1's auc: 0.749384\n[155]\ttraining's auc: 0.956043\tvalid_1's auc: 0.748922\n[156]\ttraining's auc: 0.956124\tvalid_1's auc: 0.748922\n[157]\ttraining's auc: 0.956255\tvalid_1's auc: 0.750616\n[158]\ttraining's auc: 0.95632\tvalid_1's auc: 0.749538\n[159]\ttraining's auc: 0.95641\tvalid_1's auc: 0.748922\n[160]\ttraining's auc: 0.956541\tvalid_1's auc: 0.748153\n[161]\ttraining's auc: 0.956688\tvalid_1's auc: 0.746459\n[162]\ttraining's auc: 0.956859\tvalid_1's auc: 0.746459\n[163]\ttraining's auc: 0.956941\tvalid_1's auc: 0.746305\n[164]\ttraining's auc: 0.956933\tvalid_1's auc: 0.746151\n[165]\ttraining's auc: 0.957023\tvalid_1's auc: 0.746305\n[166]\ttraining's auc: 0.957121\tvalid_1's auc: 0.745844\n[167]\ttraining's auc: 0.957284\tvalid_1's auc: 0.744766\n[168]\ttraining's auc: 0.957488\tvalid_1's auc: 0.74415\n[169]\ttraining's auc: 0.957676\tvalid_1's auc: 0.74492\n[170]\ttraining's auc: 0.957872\tvalid_1's auc: 0.743842\n[171]\ttraining's auc: 0.958109\tvalid_1's auc: 0.74492\n[172]\ttraining's auc: 0.958133\tvalid_1's auc: 0.744458\n[173]\ttraining's auc: 0.958207\tvalid_1's auc: 0.744612\n[174]\ttraining's auc: 0.958501\tvalid_1's auc: 0.745998\n[175]\ttraining's auc: 0.95864\tvalid_1's auc: 0.745074\n[176]\ttraining's auc: 0.958803\tvalid_1's auc: 0.743073\n[177]\ttraining's auc: 0.95895\tvalid_1's auc: 0.743534\n[178]\ttraining's auc: 0.95913\tvalid_1's auc: 0.744612\n[179]\ttraining's auc: 0.959154\tvalid_1's auc: 0.743842\n[180]\ttraining's auc: 0.959276\tvalid_1's auc: 0.742765\n[181]\ttraining's auc: 0.959268\tvalid_1's auc: 0.742765\n[182]\ttraining's auc: 0.959268\tvalid_1's auc: 0.741841\n[183]\ttraining's auc: 0.959407\tvalid_1's auc: 0.741841\n[184]\ttraining's auc: 0.95944\tvalid_1's auc: 0.741225\nEarly stopping, best iteration is:\n[84]\ttraining's auc: 0.947534\tvalid_1's auc: 0.773245\n"
    }
   ],
   "source": [
    "for train_idx, val_idx in kfold.split(train_x):\n",
    "    model.random_state = model.random_state + 1\n",
    "    train_x1 = train_x.loc[train_idx]\n",
    "    train_y1 = train_y.loc[train_idx]\n",
    "    test_x1 = train_x.loc[val_idx]\n",
    "    test_y1 = train_y.loc[val_idx]\n",
    "    #,(vali_x,vali_y)\n",
    "    model.fit(train_x1, train_y1,eval_set=[(train_x1, train_y1),(test_x1, test_y1)],eval_metric='auc',early_stopping_rounds=100)\n",
    "    res['Attrition'] += model.predict_proba(test_x)[:,1]"
   ]
  },
  {
   "cell_type": "code",
   "execution_count": 28,
   "metadata": {},
   "outputs": [],
   "source": [
    "res['Attrition'] = res['Attrition']/5"
   ]
  },
  {
   "cell_type": "code",
   "execution_count": 29,
   "metadata": {},
   "outputs": [
    {
     "output_type": "execute_result",
     "data": {
      "text/plain": "      user_id  Attrition\n1176      442   0.143020\n1177     1091   0.111356\n1178      981   0.138595\n1179      785   0.156291\n1180     1332   0.414322\n...       ...        ...\n1465     1439   0.117758\n1466      481   0.134461\n1467      124   0.247078\n1468      198   0.105036\n1469     1229   0.131512\n\n[294 rows x 2 columns]",
      "text/html": "<div>\n<style scoped>\n    .dataframe tbody tr th:only-of-type {\n        vertical-align: middle;\n    }\n\n    .dataframe tbody tr th {\n        vertical-align: top;\n    }\n\n    .dataframe thead th {\n        text-align: right;\n    }\n</style>\n<table border=\"1\" class=\"dataframe\">\n  <thead>\n    <tr style=\"text-align: right;\">\n      <th></th>\n      <th>user_id</th>\n      <th>Attrition</th>\n    </tr>\n  </thead>\n  <tbody>\n    <tr>\n      <th>1176</th>\n      <td>442</td>\n      <td>0.143020</td>\n    </tr>\n    <tr>\n      <th>1177</th>\n      <td>1091</td>\n      <td>0.111356</td>\n    </tr>\n    <tr>\n      <th>1178</th>\n      <td>981</td>\n      <td>0.138595</td>\n    </tr>\n    <tr>\n      <th>1179</th>\n      <td>785</td>\n      <td>0.156291</td>\n    </tr>\n    <tr>\n      <th>1180</th>\n      <td>1332</td>\n      <td>0.414322</td>\n    </tr>\n    <tr>\n      <th>...</th>\n      <td>...</td>\n      <td>...</td>\n    </tr>\n    <tr>\n      <th>1465</th>\n      <td>1439</td>\n      <td>0.117758</td>\n    </tr>\n    <tr>\n      <th>1466</th>\n      <td>481</td>\n      <td>0.134461</td>\n    </tr>\n    <tr>\n      <th>1467</th>\n      <td>124</td>\n      <td>0.247078</td>\n    </tr>\n    <tr>\n      <th>1468</th>\n      <td>198</td>\n      <td>0.105036</td>\n    </tr>\n    <tr>\n      <th>1469</th>\n      <td>1229</td>\n      <td>0.131512</td>\n    </tr>\n  </tbody>\n</table>\n<p>294 rows × 2 columns</p>\n</div>"
     },
     "metadata": {},
     "execution_count": 29
    }
   ],
   "source": [
    "res"
   ]
  },
  {
   "cell_type": "code",
   "execution_count": 30,
   "metadata": {},
   "outputs": [],
   "source": [
    "res[['user_id','Attrition']].to_csv('./lgb_baseline.csv', index=False)"
   ]
  },
  {
   "cell_type": "code",
   "execution_count": null,
   "metadata": {},
   "outputs": [],
   "source": []
  }
 ]
}